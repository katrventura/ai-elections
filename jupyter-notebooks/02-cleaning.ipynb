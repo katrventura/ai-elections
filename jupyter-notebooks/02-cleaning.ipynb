{
 "cells": [
  {
   "cell_type": "markdown",
   "metadata": {},
   "source": [
    "## TikTok Metadata Cleaning Notebook"
   ]
  },
  {
   "cell_type": "markdown",
   "metadata": {},
   "source": [
    "### Setup"
   ]
  },
  {
   "cell_type": "code",
   "execution_count": 1,
   "metadata": {},
   "outputs": [],
   "source": [
    "import pandas as pd"
   ]
  },
  {
   "cell_type": "markdown",
   "metadata": {},
   "source": [
    "### Load Data"
   ]
  },
  {
   "cell_type": "markdown",
   "metadata": {},
   "source": []
  },
  {
   "cell_type": "code",
   "execution_count": 2,
   "metadata": {},
   "outputs": [
    {
     "name": "stdout",
     "output_type": "stream",
     "text": [
      "<class 'pandas.core.frame.DataFrame'>\n",
      "RangeIndex: 288 entries, 0 to 287\n",
      "Data columns (total 44 columns):\n",
      " #   Column                 Non-Null Count  Dtype  \n",
      "---  ------                 --------------  -----  \n",
      " 0   AIGCDescription        288 non-null    object \n",
      " 1   BAInfo                 288 non-null    object \n",
      " 2   adAuthorization        288 non-null    bool   \n",
      " 3   adLabelVersion         288 non-null    int64  \n",
      " 4   aigcLabelType          288 non-null    int64  \n",
      " 5   author                 288 non-null    object \n",
      " 6   authorStats            288 non-null    object \n",
      " 7   challenges             288 non-null    object \n",
      " 8   collected              288 non-null    bool   \n",
      " 9   contents               286 non-null    object \n",
      " 10  createTime             288 non-null    int64  \n",
      " 11  desc                   288 non-null    object \n",
      " 12  digged                 288 non-null    bool   \n",
      " 13  diversificationId      214 non-null    float64\n",
      " 14  duetDisplay            288 non-null    int64  \n",
      " 15  duetEnabled            288 non-null    bool   \n",
      " 16  duetInfo               288 non-null    object \n",
      " 17  forFriend              288 non-null    bool   \n",
      " 18  id                     288 non-null    int64  \n",
      " 19  isAd                   288 non-null    bool   \n",
      " 20  itemCommentStatus      288 non-null    int64  \n",
      " 21  itemMute               288 non-null    bool   \n",
      " 22  item_control           288 non-null    object \n",
      " 23  music                  288 non-null    object \n",
      " 24  officalItem            288 non-null    bool   \n",
      " 25  originalItem           288 non-null    bool   \n",
      " 26  playlistId             288 non-null    object \n",
      " 27  privateItem            288 non-null    bool   \n",
      " 28  secret                 288 non-null    bool   \n",
      " 29  shareEnabled           288 non-null    bool   \n",
      " 30  showNotPass            288 non-null    bool   \n",
      " 31  stats                  288 non-null    object \n",
      " 32  statsV2                288 non-null    object \n",
      " 33  stitchDisplay          288 non-null    int64  \n",
      " 34  stitchEnabled          288 non-null    bool   \n",
      " 35  textExtra              288 non-null    object \n",
      " 36  video                  288 non-null    object \n",
      " 37  videoSuggestWordsList  4 non-null      object \n",
      " 38  vl1                    288 non-null    bool   \n",
      " 39  stickersOnItem         102 non-null    object \n",
      " 40  imagePost              8 non-null      object \n",
      " 41  poi                    20 non-null     object \n",
      " 42  anchors                9 non-null      object \n",
      " 43  effectStickers         7 non-null      object \n",
      "dtypes: bool(15), float64(1), int64(7), object(21)\n",
      "memory usage: 69.6+ KB\n"
     ]
    }
   ],
   "source": [
    "# import data posts.json\n",
    "\n",
    "df_Biden = pd.read_json('data/AIBiden.json')\n",
    "df_Biden.info()"
   ]
  },
  {
   "cell_type": "code",
   "execution_count": 3,
   "metadata": {},
   "outputs": [
    {
     "name": "stdout",
     "output_type": "stream",
     "text": [
      "<class 'pandas.core.frame.DataFrame'>\n",
      "RangeIndex: 489 entries, 0 to 488\n",
      "Data columns (total 45 columns):\n",
      " #   Column                 Non-Null Count  Dtype  \n",
      "---  ------                 --------------  -----  \n",
      " 0   AIGCDescription        489 non-null    object \n",
      " 1   BAInfo                 489 non-null    object \n",
      " 2   adAuthorization        489 non-null    bool   \n",
      " 3   adLabelVersion         489 non-null    int64  \n",
      " 4   aigcLabelType          489 non-null    int64  \n",
      " 5   author                 489 non-null    object \n",
      " 6   authorStats            489 non-null    object \n",
      " 7   challenges             489 non-null    object \n",
      " 8   collected              489 non-null    bool   \n",
      " 9   contents               488 non-null    object \n",
      " 10  createTime             489 non-null    int64  \n",
      " 11  desc                   489 non-null    object \n",
      " 12  digged                 489 non-null    bool   \n",
      " 13  duetDisplay            489 non-null    int64  \n",
      " 14  duetEnabled            489 non-null    bool   \n",
      " 15  duetInfo               489 non-null    object \n",
      " 16  forFriend              489 non-null    bool   \n",
      " 17  id                     489 non-null    int64  \n",
      " 18  isAd                   489 non-null    bool   \n",
      " 19  itemCommentStatus      489 non-null    int64  \n",
      " 20  itemMute               489 non-null    bool   \n",
      " 21  item_control           489 non-null    object \n",
      " 22  music                  489 non-null    object \n",
      " 23  officalItem            489 non-null    bool   \n",
      " 24  originalItem           489 non-null    bool   \n",
      " 25  playlistId             489 non-null    object \n",
      " 26  privateItem            489 non-null    bool   \n",
      " 27  secret                 489 non-null    bool   \n",
      " 28  shareEnabled           489 non-null    bool   \n",
      " 29  showNotPass            489 non-null    bool   \n",
      " 30  stats                  489 non-null    object \n",
      " 31  statsV2                489 non-null    object \n",
      " 32  stitchDisplay          489 non-null    int64  \n",
      " 33  stitchEnabled          489 non-null    bool   \n",
      " 34  textExtra              489 non-null    object \n",
      " 35  video                  489 non-null    object \n",
      " 36  vl1                    489 non-null    bool   \n",
      " 37  stickersOnItem         117 non-null    object \n",
      " 38  diversificationId      301 non-null    float64\n",
      " 39  videoSuggestWordsList  6 non-null      object \n",
      " 40  imagePost              105 non-null    object \n",
      " 41  anchors                17 non-null     object \n",
      " 42  poi                    34 non-null     object \n",
      " 43  effectStickers         4 non-null      object \n",
      " 44  warnInfo               71 non-null     object \n",
      "dtypes: bool(15), float64(1), int64(7), object(22)\n",
      "memory usage: 121.9+ KB\n"
     ]
    }
   ],
   "source": [
    "df_Trump = pd.read_json('data/AITrump.json')\n",
    "df_Trump.info()"
   ]
  },
  {
   "cell_type": "code",
   "execution_count": 4,
   "metadata": {},
   "outputs": [
    {
     "data": {
      "text/plain": [
       "777"
      ]
     },
     "execution_count": 4,
     "metadata": {},
     "output_type": "execute_result"
    }
   ],
   "source": [
    "# Combine the two dataframes \n",
    "df = pd.concat([df_Biden, df_Trump], ignore_index=True)\n",
    "len(df)"
   ]
  },
  {
   "cell_type": "markdown",
   "metadata": {},
   "source": [
    "### Field Description:\n",
    "* AIGCDescription: This is likely an object containing information related to AI-generated content.\n",
    "* BAInfo: This object may contain information about the business or advertiser associated with the content.\n",
    "* adAuthorization: A boolean value indicating whether the content is authorized as an advertisement.\n",
    "* adLabelVersion: An integer representing the version of the ad label used for the content.\n",
    "* aigcLabelType: An integer indicating the type of AI-generated content label used.\n",
    "* author: An object containing information about the author or creator of the content.\n",
    "* authorStats: An object with statistics related to the author.\n",
    "* challenges: An object containing information about any challenges or contests associated with the content.\n",
    "* collected: A boolean value indicating whether the content has been collected or saved by the user.\n",
    "* contents: An object containing the actual content, such as text, images, or videos.\n",
    "* createTime: A datetime value representing the time when the content was created.\n",
    "* desc: An object containing a description or summary of the content.\n",
    "* digged: A boolean value indicating whether the user has \"digged\" or liked the content.\n",
    "* diversificationId: A float value, possibly used for content diversification or recommendation purposes.\n",
    "* duetDisplay: An integer value related to the display settings for duet (split-screen) videos.\n",
    "* duetEnabled: A boolean value indicating whether duet videos are enabled for the content.\n",
    "* duetInfo: An object containing information about duet videos, if applicable.\n",
    "* forFriend: A boolean value indicating whether the content is intended for a specific friend or group.\n",
    "* id: An integer value representing the unique identifier for the content.\n",
    "* isAd: A boolean value indicating whether the content is an advertisement.\n",
    "* itemCommentStatus: An integer value representing the comment status for the content.\n",
    "* itemMute: A boolean value indicating whether the content is muted.\n",
    "* music: An object containing information about the music or audio associated with the content.\n",
    "* officalItem: A boolean value indicating whether the content is an official item or from an official source.\n",
    "* originalItem: A boolean value indicating whether the content is an original item or a repost/share.\n",
    "* playlistId: An object representing the playlist ID, if the content is part of a playlist.\n",
    "* privateItem: A boolean value indicating whether the content is private or public.\n",
    "* secret: A boolean value, possibly indicating whether the content is secret or confidential.\n",
    "* shareEnabled: A boolean value indicating whether sharing is enabled for the content.\n",
    "* showNotPass: A boolean value, potentially related to content moderation or filtering.\n",
    "* stats: An object containing statistical information about the content, such as views, likes, or shares.\n",
    "* statsV2: Another object containing statistical information, possibly a newer or different version.\n",
    "* stitchDisplay: An integer value related to the display settings for stitch (combined) videos.\n",
    "* stitchEnabled: A boolean value indicating whether stitch videos are enabled for the content.\n",
    "* textExtra: An object containing additional text-related information or metadata.\n",
    "* video: An object containing information about the video file, if the content is a video.\n",
    "* vl1: A boolean value, possibly indicating whether the content is verified or from a trusted source.\n",
    "* stickersOnItem: An object containing information about stickers or overlays applied to the content.\n",
    "* imagePost: An object containing information about the image, if the content is an image post.\n",
    "* anchors: An object with information about anchors or locations associated with the content.\n",
    "* poi: An object containing points of interest (POI) related to the content.\n",
    "* effectStickers: An object with information about effect stickers or filters applied to the content.\n",
    "* item_control: An object containing control settings or permissions for the content.\n",
    "* warnInfo: An object with warning or advisory information related to the content."
   ]
  },
  {
   "cell_type": "markdown",
   "metadata": {},
   "source": [
    "### Save new dataframe"
   ]
  },
  {
   "cell_type": "code",
   "execution_count": 5,
   "metadata": {},
   "outputs": [
    {
     "data": {
      "text/plain": [
       "777"
      ]
     },
     "execution_count": 5,
     "metadata": {},
     "output_type": "execute_result"
    }
   ],
   "source": [
    "# New df\n",
    "# AI labeled content 1 = true, 0 = false\n",
    "\n",
    "df2 = pd.DataFrame(columns=['id', 'uniqueId', 'signature', 'followerCount', 'aigcLabelType', 'createTime', 'desc', 'playCount', 'shareCount'])\n",
    "df2['id'] = df.author.apply(lambda x: x['id'])\n",
    "df2['uniqueId'] = df.author.apply(lambda x: x['uniqueId'])\n",
    "df2['signature'] = df.author.apply(lambda x: x['signature'])\n",
    "df2['followerCount'] = df.authorStats.apply(lambda x: x['followerCount'])\n",
    "df2['aigcLabelType'] = df.aigcLabelType.map({1: True, 0: False})\n",
    "df2['createTime'] = pd.to_datetime(df.createTime, unit='s')\n",
    "df2['desc'] = df.desc\n",
    "df2['playCount'] = df.statsV2.apply(lambda x: x['playCount'])\n",
    "df2['shareCount'] = df.statsV2.apply(lambda x: x['shareCount'])\n",
    "df2['videoId'] = df.video.apply(lambda x: x['id'])\n",
    "df2['link'] = 'https://www.tiktok.com/@' + df2['uniqueId'] + '/video/' + df2['videoId']\n",
    "\n",
    "len(df2)\n"
   ]
  },
  {
   "cell_type": "markdown",
   "metadata": {},
   "source": [
    "## Remove Duplicates"
   ]
  },
  {
   "cell_type": "code",
   "execution_count": 7,
   "metadata": {},
   "outputs": [],
   "source": [
    "# remove duplicate rows based on 'id'\n",
    "\n",
    "df2.drop_duplicates(subset='videoId', keep='first', inplace=True)\n",
    "len(df2)\n",
    "\n",
    "df2.to_csv('data/tiktok.csv', index=False)"
   ]
  }
 ],
 "metadata": {
  "kernelspec": {
   "display_name": "Python 3",
   "language": "python",
   "name": "python3"
  },
  "language_info": {
   "codemirror_mode": {
    "name": "ipython",
    "version": 3
   },
   "file_extension": ".py",
   "mimetype": "text/x-python",
   "name": "python",
   "nbconvert_exporter": "python",
   "pygments_lexer": "ipython3",
   "version": "3.11.6"
  }
 },
 "nbformat": 4,
 "nbformat_minor": 2
}
