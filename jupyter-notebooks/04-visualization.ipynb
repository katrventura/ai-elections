{
 "cells": [
  {
   "cell_type": "markdown",
   "metadata": {},
   "source": [
    "# Visualization Notebook"
   ]
  },
  {
   "cell_type": "markdown",
   "metadata": {},
   "source": [
    "## Setup"
   ]
  },
  {
   "cell_type": "code",
   "execution_count": 1,
   "metadata": {},
   "outputs": [
    {
     "name": "stderr",
     "output_type": "stream",
     "text": [
      "During startup - Warning messages:\n",
      "1: Setting LC_COLLATE failed, using \"C\" \n",
      "2: Setting LC_TIME failed, using \"C\" \n",
      "3: Setting LC_MESSAGES failed, using \"C\" \n",
      "4: Setting LC_MONETARY failed, using \"C\" \n"
     ]
    }
   ],
   "source": [
    "%load_ext rpy2.ipython\n",
    "%load_ext autoreload\n",
    "%autoreload 2\n",
    "\n",
    "%matplotlib inline  \n",
    "from matplotlib import rcParams\n",
    "rcParams['figure.figsize'] = (16, 100)\n",
    "\n",
    "import warnings\n",
    "from rpy2.rinterface import RRuntimeWarning\n",
    "warnings.filterwarnings(\"ignore\") # Ignore all warnings\n",
    "# warnings.filterwarnings(\"ignore\", category=RRuntimeWarning) # Show some warnings"
   ]
  },
  {
   "cell_type": "code",
   "execution_count": 2,
   "metadata": {},
   "outputs": [
    {
     "data": {
      "application/javascript": "// Disable auto-scrolling\nIPython.OutputArea.prototype._should_scroll = function(lines) {\n    return false;\n}\n",
      "text/plain": [
       "<IPython.core.display.Javascript object>"
      ]
     },
     "metadata": {},
     "output_type": "display_data"
    }
   ],
   "source": [
    "%%javascript\n",
    "// Disable auto-scrolling\n",
    "IPython.OutputArea.prototype._should_scroll = function(lines) {\n",
    "    return false;\n",
    "}"
   ]
  },
  {
   "cell_type": "code",
   "execution_count": 3,
   "metadata": {},
   "outputs": [
    {
     "name": "stdout",
     "output_type": "stream",
     "text": [
      "── Attaching core tidyverse packages ──────────────────────── tidyverse 2.0.0 ──\n",
      "✔ dplyr     1.1.4     ✔ readr     2.1.5\n",
      "✔ forcats   1.0.0     ✔ stringr   1.5.1\n",
      "✔ ggplot2   3.5.0     ✔ tibble    3.2.1\n",
      "✔ lubridate 1.9.3     ✔ tidyr     1.3.0\n",
      "✔ purrr     1.0.2     \n",
      "── Conflicts ────────────────────────────────────────── tidyverse_conflicts() ──\n",
      "✖ dplyr::filter() masks stats::filter()\n",
      "✖ dplyr::lag()    masks stats::lag()\n",
      "ℹ Use the conflicted package (<http://conflicted.r-lib.org/>) to force all conflicts to become errors\n"
     ]
    },
    {
     "data": {
      "text/plain": [
       "Loading required package: tidyverse\n"
      ]
     },
     "metadata": {},
     "output_type": "display_data"
    }
   ],
   "source": [
    "%%R\n",
    "\n",
    "# My commonly used R imports\n",
    "\n",
    "require('tidyverse')"
   ]
  },
  {
   "cell_type": "code",
   "execution_count": 4,
   "metadata": {},
   "outputs": [],
   "source": [
    "# Python imports for this analysis\n",
    "\n",
    "import pandas as pd\n",
    "import numpy as np\n",
    "import matplotlib.pyplot as plt\n",
    "from IPython.display import display, HTML\n",
    "import epitools as epi"
   ]
  },
  {
   "cell_type": "code",
   "execution_count": 5,
   "metadata": {},
   "outputs": [],
   "source": [
    "# to show the full output\n",
    "\n",
    "pd.set_option('display.max_colwidth', None)"
   ]
  },
  {
   "cell_type": "markdown",
   "metadata": {},
   "source": [
    "## Load Data"
   ]
  },
  {
   "cell_type": "code",
   "execution_count": 6,
   "metadata": {},
   "outputs": [
    {
     "data": {
      "text/plain": [
       "587"
      ]
     },
     "execution_count": 6,
     "metadata": {},
     "output_type": "execute_result"
    }
   ],
   "source": [
    "df = pd.read_csv('data/sorted.csv')\n",
    "len(df)"
   ]
  },
  {
   "cell_type": "code",
   "execution_count": 7,
   "metadata": {},
   "outputs": [
    {
     "data": {
      "text/plain": [
       "aigcLabelType\n",
       "False    512\n",
       "True      74\n",
       "Name: count, dtype: int64"
      ]
     },
     "execution_count": 7,
     "metadata": {},
     "output_type": "execute_result"
    }
   ],
   "source": [
    "df['aigcLabelType'].value_counts()"
   ]
  },
  {
   "cell_type": "markdown",
   "metadata": {},
   "source": [
    "## Categories"
   ]
  },
  {
   "cell_type": "code",
   "execution_count": 8,
   "metadata": {},
   "outputs": [
    {
     "data": {
      "text/html": [
       "<div>\n",
       "<style scoped>\n",
       "    .dataframe tbody tr th:only-of-type {\n",
       "        vertical-align: middle;\n",
       "    }\n",
       "\n",
       "    .dataframe tbody tr th {\n",
       "        vertical-align: top;\n",
       "    }\n",
       "\n",
       "    .dataframe thead th {\n",
       "        text-align: right;\n",
       "    }\n",
       "</style>\n",
       "<table border=\"1\" class=\"dataframe\">\n",
       "  <thead>\n",
       "    <tr style=\"text-align: right;\">\n",
       "      <th></th>\n",
       "      <th>id</th>\n",
       "      <th>uniqueId</th>\n",
       "      <th>videoId</th>\n",
       "      <th>link</th>\n",
       "      <th>signature</th>\n",
       "      <th>followerCount</th>\n",
       "      <th>aigcLabelType</th>\n",
       "      <th>createTime</th>\n",
       "      <th>desc</th>\n",
       "      <th>playCount</th>\n",
       "      <th>shareCount</th>\n",
       "      <th>gamer</th>\n",
       "      <th>biden_deepfakes</th>\n",
       "      <th>presidential_debates</th>\n",
       "      <th>psa_deepfakes</th>\n",
       "      <th>vietnamese_trump</th>\n",
       "      <th>trump_covers</th>\n",
       "      <th>biden_covers</th>\n",
       "      <th>trump_deepfakes</th>\n",
       "      <th>category</th>\n",
       "    </tr>\n",
       "  </thead>\n",
       "  <tbody>\n",
       "    <tr>\n",
       "      <th>0</th>\n",
       "      <td>7202754390540190766</td>\n",
       "      <td>presidentialdeepfakes</td>\n",
       "      <td>7205031224979508523</td>\n",
       "      <td>https://www.tiktok.com/@presidentialdeepfakes/video/7205031224979508523</td>\n",
       "      <td>Ai presidents videos, slideshows and full episodes of shows</td>\n",
       "      <td>134400.0</td>\n",
       "      <td>False</td>\n",
       "      <td>2023-02-28 2:41:05</td>\n",
       "      <td>The boys go on a late night drive to McDonalds #aivoice #president #ai #biden #aibiden #trump #aitrump #aipresidentgaming #aipresidents</td>\n",
       "      <td>2213066</td>\n",
       "      <td>26836</td>\n",
       "      <td>gamer</td>\n",
       "      <td>non-biden_deepfakes</td>\n",
       "      <td>non-presidential_debates</td>\n",
       "      <td>non-psa_deepfakes</td>\n",
       "      <td>non-vietnamese_trump</td>\n",
       "      <td>non-trump_cover</td>\n",
       "      <td>non-biden_cover</td>\n",
       "      <td>non-trump_deepfake</td>\n",
       "      <td>gamer</td>\n",
       "    </tr>\n",
       "    <tr>\n",
       "      <th>1</th>\n",
       "      <td>6927014834434212869</td>\n",
       "      <td>covers.ai.songs</td>\n",
       "      <td>7251711953343696170</td>\n",
       "      <td>https://www.tiktok.com/@covers.ai.songs/video/7251711953343696170</td>\n",
       "      <td>covers.ai fan acount, teen pop sensation and next best song producer 😤😤</td>\n",
       "      <td>7875.0</td>\n",
       "      <td>False</td>\n",
       "      <td>2023-07-03 21:46:11</td>\n",
       "      <td>hello christ, im bout to sin again! #trump #aitrump #aicover #aicovers #biden #aibiden #flyanaboss #flyanabossyouwish</td>\n",
       "      <td>913053</td>\n",
       "      <td>41761</td>\n",
       "      <td>non-gamer</td>\n",
       "      <td>non-biden_deepfakes</td>\n",
       "      <td>non-presidential_debates</td>\n",
       "      <td>non-psa_deepfakes</td>\n",
       "      <td>non-vietnamese_trump</td>\n",
       "      <td>trump_cover</td>\n",
       "      <td>non-biden_cover</td>\n",
       "      <td>non-trump_deepfake</td>\n",
       "      <td>trump_covers</td>\n",
       "    </tr>\n",
       "    <tr>\n",
       "      <th>2</th>\n",
       "      <td>7202754390540190766</td>\n",
       "      <td>presidentialdeepfakes</td>\n",
       "      <td>7202981692708080939</td>\n",
       "      <td>https://www.tiktok.com/@presidentialdeepfakes/video/7202981692708080939</td>\n",
       "      <td>Ai presidents videos, slideshows and full episodes of shows</td>\n",
       "      <td>134400.0</td>\n",
       "      <td>False</td>\n",
       "      <td>2023-02-22 14:07:56</td>\n",
       "      <td>Trump and Biden play War Thunder #president #ai #biden #aibiden #trump #aitrump #aipresidentgaming</td>\n",
       "      <td>490077</td>\n",
       "      <td>1789</td>\n",
       "      <td>gamer</td>\n",
       "      <td>non-biden_deepfakes</td>\n",
       "      <td>non-presidential_debates</td>\n",
       "      <td>non-psa_deepfakes</td>\n",
       "      <td>non-vietnamese_trump</td>\n",
       "      <td>non-trump_cover</td>\n",
       "      <td>non-biden_cover</td>\n",
       "      <td>non-trump_deepfake</td>\n",
       "      <td>gamer</td>\n",
       "    </tr>\n",
       "    <tr>\n",
       "      <th>3</th>\n",
       "      <td>7202754390540190766</td>\n",
       "      <td>presidentialdeepfakes</td>\n",
       "      <td>7202957780104318254</td>\n",
       "      <td>https://www.tiktok.com/@presidentialdeepfakes/video/7202957780104318254</td>\n",
       "      <td>Ai presidents videos, slideshows and full episodes of shows</td>\n",
       "      <td>134400.0</td>\n",
       "      <td>False</td>\n",
       "      <td>2023-02-22 12:35:11</td>\n",
       "      <td>The boys play Among Us #president #ai #biden #aibiden #trump #aitrump #amongus #aipresident</td>\n",
       "      <td>305942</td>\n",
       "      <td>2515</td>\n",
       "      <td>gamer</td>\n",
       "      <td>non-biden_deepfakes</td>\n",
       "      <td>non-presidential_debates</td>\n",
       "      <td>non-psa_deepfakes</td>\n",
       "      <td>non-vietnamese_trump</td>\n",
       "      <td>non-trump_cover</td>\n",
       "      <td>non-biden_cover</td>\n",
       "      <td>non-trump_deepfake</td>\n",
       "      <td>gamer</td>\n",
       "    </tr>\n",
       "    <tr>\n",
       "      <th>4</th>\n",
       "      <td>7032492950270837766</td>\n",
       "      <td>letstalktswizzle</td>\n",
       "      <td>7209428696069868802</td>\n",
       "      <td>https://www.tiktok.com/@letstalktswizzle/video/7209428696069868802</td>\n",
       "      <td>NaN</td>\n",
       "      <td>402.0</td>\n",
       "      <td>False</td>\n",
       "      <td>2023-03-11 23:05:50</td>\n",
       "      <td>Replying to @carchairheadrest #aivoice #aitrump #aibiden #taylorswift #tswizzle</td>\n",
       "      <td>199689</td>\n",
       "      <td>5649</td>\n",
       "      <td>non-gamer</td>\n",
       "      <td>non-biden_deepfakes</td>\n",
       "      <td>presidential_debates</td>\n",
       "      <td>non-psa_deepfakes</td>\n",
       "      <td>non-vietnamese_trump</td>\n",
       "      <td>non-trump_cover</td>\n",
       "      <td>non-biden_cover</td>\n",
       "      <td>non-trump_deepfake</td>\n",
       "      <td>presidential_debates</td>\n",
       "    </tr>\n",
       "  </tbody>\n",
       "</table>\n",
       "</div>"
      ],
      "text/plain": [
       "                    id               uniqueId              videoId  \\\n",
       "0  7202754390540190766  presidentialdeepfakes  7205031224979508523   \n",
       "1  6927014834434212869        covers.ai.songs  7251711953343696170   \n",
       "2  7202754390540190766  presidentialdeepfakes  7202981692708080939   \n",
       "3  7202754390540190766  presidentialdeepfakes  7202957780104318254   \n",
       "4  7032492950270837766       letstalktswizzle  7209428696069868802   \n",
       "\n",
       "                                                                      link  \\\n",
       "0  https://www.tiktok.com/@presidentialdeepfakes/video/7205031224979508523   \n",
       "1        https://www.tiktok.com/@covers.ai.songs/video/7251711953343696170   \n",
       "2  https://www.tiktok.com/@presidentialdeepfakes/video/7202981692708080939   \n",
       "3  https://www.tiktok.com/@presidentialdeepfakes/video/7202957780104318254   \n",
       "4       https://www.tiktok.com/@letstalktswizzle/video/7209428696069868802   \n",
       "\n",
       "                                                                 signature  \\\n",
       "0              Ai presidents videos, slideshows and full episodes of shows   \n",
       "1  covers.ai fan acount, teen pop sensation and next best song producer 😤😤   \n",
       "2              Ai presidents videos, slideshows and full episodes of shows   \n",
       "3              Ai presidents videos, slideshows and full episodes of shows   \n",
       "4                                                                      NaN   \n",
       "\n",
       "   followerCount aigcLabelType           createTime  \\\n",
       "0       134400.0         False   2023-02-28 2:41:05   \n",
       "1         7875.0         False  2023-07-03 21:46:11   \n",
       "2       134400.0         False  2023-02-22 14:07:56   \n",
       "3       134400.0         False  2023-02-22 12:35:11   \n",
       "4          402.0         False  2023-03-11 23:05:50   \n",
       "\n",
       "                                                                                                                                      desc  \\\n",
       "0  The boys go on a late night drive to McDonalds #aivoice #president #ai #biden #aibiden #trump #aitrump #aipresidentgaming #aipresidents   \n",
       "1                   hello christ, im bout to sin again! #trump #aitrump #aicover #aicovers #biden #aibiden #flyanaboss #flyanabossyouwish    \n",
       "2                                       Trump and Biden play War Thunder #president #ai #biden #aibiden #trump #aitrump #aipresidentgaming   \n",
       "3                                              The boys play Among Us #president #ai #biden #aibiden #trump #aitrump #amongus #aipresident   \n",
       "4                                                          Replying to @carchairheadrest #aivoice #aitrump #aibiden #taylorswift #tswizzle   \n",
       "\n",
       "   playCount  shareCount      gamer      biden_deepfakes  \\\n",
       "0    2213066       26836      gamer  non-biden_deepfakes   \n",
       "1     913053       41761  non-gamer  non-biden_deepfakes   \n",
       "2     490077        1789      gamer  non-biden_deepfakes   \n",
       "3     305942        2515      gamer  non-biden_deepfakes   \n",
       "4     199689        5649  non-gamer  non-biden_deepfakes   \n",
       "\n",
       "       presidential_debates      psa_deepfakes      vietnamese_trump  \\\n",
       "0  non-presidential_debates  non-psa_deepfakes  non-vietnamese_trump   \n",
       "1  non-presidential_debates  non-psa_deepfakes  non-vietnamese_trump   \n",
       "2  non-presidential_debates  non-psa_deepfakes  non-vietnamese_trump   \n",
       "3  non-presidential_debates  non-psa_deepfakes  non-vietnamese_trump   \n",
       "4      presidential_debates  non-psa_deepfakes  non-vietnamese_trump   \n",
       "\n",
       "      trump_covers     biden_covers     trump_deepfakes              category  \n",
       "0  non-trump_cover  non-biden_cover  non-trump_deepfake                 gamer  \n",
       "1      trump_cover  non-biden_cover  non-trump_deepfake          trump_covers  \n",
       "2  non-trump_cover  non-biden_cover  non-trump_deepfake                 gamer  \n",
       "3  non-trump_cover  non-biden_cover  non-trump_deepfake                 gamer  \n",
       "4  non-trump_cover  non-biden_cover  non-trump_deepfake  presidential_debates  "
      ]
     },
     "execution_count": 8,
     "metadata": {},
     "output_type": "execute_result"
    }
   ],
   "source": [
    "conditions = [\n",
    "    (df['gamer'] == 'gamer'),\n",
    "    (df['biden_deepfakes'] == 'biden_deepfakes'),\n",
    "    (df['presidential_debates'] == 'presidential_debates'),\n",
    "    (df['psa_deepfakes'] == 'psa_deepfakes'),\n",
    "    (df['vietnamese_trump'] == 'vietnamese_trump'),\n",
    "    (df['trump_covers'] == 'trump_cover'),\n",
    "    (df['biden_covers'] == 'biden_cover'),\n",
    "    (df['trump_deepfakes'] == 'trump_deepfake')\n",
    "]\n",
    "\n",
    "choices = [\n",
    "    'gamer',\n",
    "    'biden_deepfakes',\n",
    "    'presidential_debates',\n",
    "    'psa_deepfakes',\n",
    "    'vietnamese_trump',\n",
    "    'trump_covers',\n",
    "    'biden_covers',\n",
    "    'trump_deepfakes'\n",
    "]\n",
    "\n",
    "df['category'] = np.select(conditions, choices, default='unknown')\n",
    "df['category'].value_counts()\n",
    "df.head()"
   ]
  },
  {
   "cell_type": "code",
   "execution_count": 9,
   "metadata": {},
   "outputs": [
    {
     "data": {
      "text/plain": [
       "<Axes: ylabel='category'>"
      ]
     },
     "execution_count": 9,
     "metadata": {},
     "output_type": "execute_result"
    },
    {
     "data": {
      "image/png": "[encoded data removed]",
      "text/plain": [
       "<Figure size 1000x300 with 1 Axes>"
      ]
     },
     "metadata": {},
     "output_type": "display_data"
    }
   ],
   "source": [
    "df['category'].value_counts().plot(kind='barh', figsize=(10,3))\n"
   ]
  },
  {
   "cell_type": "code",
   "execution_count": 10,
   "metadata": {},
   "outputs": [
    {
     "data": {
      "text/plain": [
       "category\n",
       "gamer                   36.967632\n",
       "trump_deepfakes         14.821124\n",
       "trump_covers            13.458262\n",
       "biden_deepfakes          9.710392\n",
       "unknown                  8.688245\n",
       "presidential_debates     6.984668\n",
       "psa_deepfakes            4.770017\n",
       "biden_covers             2.555366\n",
       "vietnamese_trump         2.044293\n",
       "Name: proportion, dtype: float64"
      ]
     },
     "execution_count": 10,
     "metadata": {},
     "output_type": "execute_result"
    }
   ],
   "source": [
    "df['category'].value_counts(normalize=True) * 100"
   ]
  },
  {
   "cell_type": "code",
   "execution_count": 11,
   "metadata": {},
   "outputs": [
    {
     "data": {
      "text/plain": [
       "aigcLabelType\n",
       "False    87.372014\n",
       "True     12.627986\n",
       "Name: proportion, dtype: float64"
      ]
     },
     "execution_count": 11,
     "metadata": {},
     "output_type": "execute_result"
    }
   ],
   "source": [
    "df.head()\n",
    "\n",
    "df['aigcLabelType'].value_counts(normalize=True) * 100\n"
   ]
  },
  {
   "cell_type": "code",
   "execution_count": 12,
   "metadata": {},
   "outputs": [
    {
     "data": {
      "text/plain": [
       "deepfake\n",
       "False    356\n",
       "True     231\n",
       "Name: count, dtype: int64"
      ]
     },
     "execution_count": 12,
     "metadata": {},
     "output_type": "execute_result"
    }
   ],
   "source": [
    "# create a new column ['deepfakes']\n",
    "conditions = [\n",
    "    (df['biden_deepfakes'] == 'biden_deepfakes'),\n",
    "    (df['trump_deepfakes'] == 'trump_deepfake'),\n",
    "    (df['presidential_debates'] == 'presidential_debates'),\n",
    "    (df['psa_deepfakes'] == 'psa_deepfakes')\n",
    "]\n",
    "\n",
    "choices = [\n",
    "    'biden_deepfakes',\n",
    "    'trump_deepfakes',\n",
    "    'presidential_debates',\n",
    "    'psa_deepfakes'\n",
    "]\n",
    "\n",
    "\n",
    "df['deepfake'] = np.select(conditions, choices, default='False')\n",
    "df['deepfake'] = np.where(df['deepfake'] == 'biden_deepfakes', True, df['deepfake'])\n",
    "df['deepfake'] = np.where(df['deepfake'] == 'trump_deepfakes', True, df['deepfake'])\n",
    "df['deepfake'] = np.where(df['deepfake'] ==  'presidential_debates', True, df['deepfake'])\n",
    "df['deepfake'] = np.where(df['deepfake'] ==  'psa_deepfakes', True, df['deepfake'])\n",
    "df['deepfake'].value_counts()\n"
   ]
  },
  {
   "cell_type": "code",
   "execution_count": 13,
   "metadata": {},
   "outputs": [
    {
     "data": {
      "text/plain": [
       "vietnamese_trump\n",
       "non-vietnamese_trump    575\n",
       "vietnamese_trump         12\n",
       "Name: count, dtype: int64"
      ]
     },
     "execution_count": 13,
     "metadata": {},
     "output_type": "execute_result"
    }
   ],
   "source": [
    "df['vietnamese_trump'].value_counts()"
   ]
  },
  {
   "cell_type": "code",
   "execution_count": 14,
   "metadata": {},
   "outputs": [
    {
     "data": {
      "text/plain": [
       "songs\n",
       "False    468\n",
       "True     119\n",
       "Name: count, dtype: int64"
      ]
     },
     "execution_count": 14,
     "metadata": {},
     "output_type": "execute_result"
    }
   ],
   "source": [
    "conditions = [\n",
    "    (df['biden_covers'] == 'biden_cover'),\n",
    "    (df['trump_covers'] == 'trump_cover'),\n",
    "    (df['vietnamese_trump'] == 'vietnamese_trump')\n",
    "]\n",
    "\n",
    "choices = [\n",
    "    'biden_covers',\n",
    "    'trump_covers',\n",
    "    'vietnamese_trump'\n",
    "]\n",
    "\n",
    "df['songs'] = np.select(conditions, choices, default='False')\n",
    "df['songs'] = np.where(df['songs'] == 'vietnamese_trump', True, df['songs'])\n",
    "df['songs'] = np.where(df['songs'] == 'trump_covers', True, df['songs'])\n",
    "df['songs'] = np.where(df['songs'] == 'biden_covers', True, df['songs'])\n",
    "\n",
    "df['songs'].value_counts()\n"
   ]
  },
  {
   "cell_type": "code",
   "execution_count": 15,
   "metadata": {},
   "outputs": [
    {
     "data": {
      "text/plain": [
       "gamer\n",
       "False    370\n",
       "True     217\n",
       "Name: count, dtype: int64"
      ]
     },
     "execution_count": 15,
     "metadata": {},
     "output_type": "execute_result"
    }
   ],
   "source": [
    "# change df['gamer'] to True if it is 'gamer' and false if non-gamer\n",
    "\n",
    "df['gamer'] = np.where(df['gamer'] == 'gamer', True,  df['gamer'])\n",
    "df['gamer'] = np.where(df['gamer'] == 'non-gamer', False,  df['gamer'])\n",
    "df['gamer'].value_counts()\n",
    "\n"
   ]
  },
  {
   "cell_type": "code",
   "execution_count": 16,
   "metadata": {},
   "outputs": [
    {
     "data": {
      "text/html": [
       "<div>\n",
       "<style scoped>\n",
       "    .dataframe tbody tr th:only-of-type {\n",
       "        vertical-align: middle;\n",
       "    }\n",
       "\n",
       "    .dataframe tbody tr th {\n",
       "        vertical-align: top;\n",
       "    }\n",
       "\n",
       "    .dataframe thead th {\n",
       "        text-align: right;\n",
       "    }\n",
       "</style>\n",
       "<table border=\"1\" class=\"dataframe\">\n",
       "  <thead>\n",
       "    <tr style=\"text-align: right;\">\n",
       "      <th></th>\n",
       "      <th>id</th>\n",
       "      <th>uniqueId</th>\n",
       "      <th>videoId</th>\n",
       "      <th>link</th>\n",
       "      <th>signature</th>\n",
       "      <th>followerCount</th>\n",
       "      <th>aigcLabelType</th>\n",
       "      <th>createTime</th>\n",
       "      <th>desc</th>\n",
       "      <th>playCount</th>\n",
       "      <th>...</th>\n",
       "      <th>biden_deepfakes</th>\n",
       "      <th>presidential_debates</th>\n",
       "      <th>psa_deepfakes</th>\n",
       "      <th>vietnamese_trump</th>\n",
       "      <th>trump_covers</th>\n",
       "      <th>biden_covers</th>\n",
       "      <th>trump_deepfakes</th>\n",
       "      <th>category</th>\n",
       "      <th>deepfake</th>\n",
       "      <th>songs</th>\n",
       "    </tr>\n",
       "  </thead>\n",
       "  <tbody>\n",
       "    <tr>\n",
       "      <th>0</th>\n",
       "      <td>7202754390540190766</td>\n",
       "      <td>presidentialdeepfakes</td>\n",
       "      <td>7205031224979508523</td>\n",
       "      <td>https://www.tiktok.com/@presidentialdeepfakes/video/7205031224979508523</td>\n",
       "      <td>Ai presidents videos, slideshows and full episodes of shows</td>\n",
       "      <td>134400.0</td>\n",
       "      <td>False</td>\n",
       "      <td>2023-02-28 2:41:05</td>\n",
       "      <td>The boys go on a late night drive to McDonalds #aivoice #president #ai #biden #aibiden #trump #aitrump #aipresidentgaming #aipresidents</td>\n",
       "      <td>2213066</td>\n",
       "      <td>...</td>\n",
       "      <td>non-biden_deepfakes</td>\n",
       "      <td>non-presidential_debates</td>\n",
       "      <td>non-psa_deepfakes</td>\n",
       "      <td>non-vietnamese_trump</td>\n",
       "      <td>non-trump_cover</td>\n",
       "      <td>non-biden_cover</td>\n",
       "      <td>non-trump_deepfake</td>\n",
       "      <td>gamer</td>\n",
       "      <td>False</td>\n",
       "      <td>False</td>\n",
       "    </tr>\n",
       "    <tr>\n",
       "      <th>1</th>\n",
       "      <td>6927014834434212869</td>\n",
       "      <td>covers.ai.songs</td>\n",
       "      <td>7251711953343696170</td>\n",
       "      <td>https://www.tiktok.com/@covers.ai.songs/video/7251711953343696170</td>\n",
       "      <td>covers.ai fan acount, teen pop sensation and next best song producer 😤😤</td>\n",
       "      <td>7875.0</td>\n",
       "      <td>False</td>\n",
       "      <td>2023-07-03 21:46:11</td>\n",
       "      <td>hello christ, im bout to sin again! #trump #aitrump #aicover #aicovers #biden #aibiden #flyanaboss #flyanabossyouwish</td>\n",
       "      <td>913053</td>\n",
       "      <td>...</td>\n",
       "      <td>non-biden_deepfakes</td>\n",
       "      <td>non-presidential_debates</td>\n",
       "      <td>non-psa_deepfakes</td>\n",
       "      <td>non-vietnamese_trump</td>\n",
       "      <td>trump_cover</td>\n",
       "      <td>non-biden_cover</td>\n",
       "      <td>non-trump_deepfake</td>\n",
       "      <td>trump_covers</td>\n",
       "      <td>False</td>\n",
       "      <td>True</td>\n",
       "    </tr>\n",
       "    <tr>\n",
       "      <th>2</th>\n",
       "      <td>7202754390540190766</td>\n",
       "      <td>presidentialdeepfakes</td>\n",
       "      <td>7202981692708080939</td>\n",
       "      <td>https://www.tiktok.com/@presidentialdeepfakes/video/7202981692708080939</td>\n",
       "      <td>Ai presidents videos, slideshows and full episodes of shows</td>\n",
       "      <td>134400.0</td>\n",
       "      <td>False</td>\n",
       "      <td>2023-02-22 14:07:56</td>\n",
       "      <td>Trump and Biden play War Thunder #president #ai #biden #aibiden #trump #aitrump #aipresidentgaming</td>\n",
       "      <td>490077</td>\n",
       "      <td>...</td>\n",
       "      <td>non-biden_deepfakes</td>\n",
       "      <td>non-presidential_debates</td>\n",
       "      <td>non-psa_deepfakes</td>\n",
       "      <td>non-vietnamese_trump</td>\n",
       "      <td>non-trump_cover</td>\n",
       "      <td>non-biden_cover</td>\n",
       "      <td>non-trump_deepfake</td>\n",
       "      <td>gamer</td>\n",
       "      <td>False</td>\n",
       "      <td>False</td>\n",
       "    </tr>\n",
       "    <tr>\n",
       "      <th>3</th>\n",
       "      <td>7202754390540190766</td>\n",
       "      <td>presidentialdeepfakes</td>\n",
       "      <td>7202957780104318254</td>\n",
       "      <td>https://www.tiktok.com/@presidentialdeepfakes/video/7202957780104318254</td>\n",
       "      <td>Ai presidents videos, slideshows and full episodes of shows</td>\n",
       "      <td>134400.0</td>\n",
       "      <td>False</td>\n",
       "      <td>2023-02-22 12:35:11</td>\n",
       "      <td>The boys play Among Us #president #ai #biden #aibiden #trump #aitrump #amongus #aipresident</td>\n",
       "      <td>305942</td>\n",
       "      <td>...</td>\n",
       "      <td>non-biden_deepfakes</td>\n",
       "      <td>non-presidential_debates</td>\n",
       "      <td>non-psa_deepfakes</td>\n",
       "      <td>non-vietnamese_trump</td>\n",
       "      <td>non-trump_cover</td>\n",
       "      <td>non-biden_cover</td>\n",
       "      <td>non-trump_deepfake</td>\n",
       "      <td>gamer</td>\n",
       "      <td>False</td>\n",
       "      <td>False</td>\n",
       "    </tr>\n",
       "    <tr>\n",
       "      <th>4</th>\n",
       "      <td>7032492950270837766</td>\n",
       "      <td>letstalktswizzle</td>\n",
       "      <td>7209428696069868802</td>\n",
       "      <td>https://www.tiktok.com/@letstalktswizzle/video/7209428696069868802</td>\n",
       "      <td>NaN</td>\n",
       "      <td>402.0</td>\n",
       "      <td>False</td>\n",
       "      <td>2023-03-11 23:05:50</td>\n",
       "      <td>Replying to @carchairheadrest #aivoice #aitrump #aibiden #taylorswift #tswizzle</td>\n",
       "      <td>199689</td>\n",
       "      <td>...</td>\n",
       "      <td>non-biden_deepfakes</td>\n",
       "      <td>presidential_debates</td>\n",
       "      <td>non-psa_deepfakes</td>\n",
       "      <td>non-vietnamese_trump</td>\n",
       "      <td>non-trump_cover</td>\n",
       "      <td>non-biden_cover</td>\n",
       "      <td>non-trump_deepfake</td>\n",
       "      <td>presidential_debates</td>\n",
       "      <td>True</td>\n",
       "      <td>False</td>\n",
       "    </tr>\n",
       "    <tr>\n",
       "      <th>...</th>\n",
       "      <td>...</td>\n",
       "      <td>...</td>\n",
       "      <td>...</td>\n",
       "      <td>...</td>\n",
       "      <td>...</td>\n",
       "      <td>...</td>\n",
       "      <td>...</td>\n",
       "      <td>...</td>\n",
       "      <td>...</td>\n",
       "      <td>...</td>\n",
       "      <td>...</td>\n",
       "      <td>...</td>\n",
       "      <td>...</td>\n",
       "      <td>...</td>\n",
       "      <td>...</td>\n",
       "      <td>...</td>\n",
       "      <td>...</td>\n",
       "      <td>...</td>\n",
       "      <td>...</td>\n",
       "      <td>...</td>\n",
       "      <td>...</td>\n",
       "    </tr>\n",
       "    <tr>\n",
       "      <th>582</th>\n",
       "      <td>7237046194995495963</td>\n",
       "      <td>tranqhkz76b</td>\n",
       "      <td>7239718617762270491</td>\n",
       "      <td>https://www.tiktok.com/@tranqhkz76b/video/7239718617762270491</td>\n",
       "      <td>Help me 10000 follow🙏🙏🙏. thank you my friends🥰🥰 🥰❤️❤️❤️</td>\n",
       "      <td>300.0</td>\n",
       "      <td>False</td>\n",
       "      <td>2023-06-01 14:05:52</td>\n",
       "      <td>Biết tìm đâu Donald Trump #aitrump #trending #shorts #coverviral #fyp</td>\n",
       "      <td>24</td>\n",
       "      <td>...</td>\n",
       "      <td>non-biden_deepfakes</td>\n",
       "      <td>non-presidential_debates</td>\n",
       "      <td>non-psa_deepfakes</td>\n",
       "      <td>vietnamese_trump</td>\n",
       "      <td>non-trump_cover</td>\n",
       "      <td>non-biden_cover</td>\n",
       "      <td>NaN</td>\n",
       "      <td>vietnamese_trump</td>\n",
       "      <td>False</td>\n",
       "      <td>True</td>\n",
       "    </tr>\n",
       "    <tr>\n",
       "      <th>583</th>\n",
       "      <td>7237046194995495963</td>\n",
       "      <td>tranqhkz76b</td>\n",
       "      <td>7240106093811092763</td>\n",
       "      <td>https://www.tiktok.com/@tranqhkz76b/video/7240106093811092763</td>\n",
       "      <td>Help me 10000 follow🙏🙏🙏. thank you my friends🥰🥰 🥰❤️❤️❤️</td>\n",
       "      <td>300.0</td>\n",
       "      <td>False</td>\n",
       "      <td>2023-06-02 15:09:31</td>\n",
       "      <td>Chúng ta không thuộc về nhau Donald #fyp #viral #trending #aitrump</td>\n",
       "      <td>9</td>\n",
       "      <td>...</td>\n",
       "      <td>non-biden_deepfakes</td>\n",
       "      <td>non-presidential_debates</td>\n",
       "      <td>non-psa_deepfakes</td>\n",
       "      <td>vietnamese_trump</td>\n",
       "      <td>non-trump_cover</td>\n",
       "      <td>non-biden_cover</td>\n",
       "      <td>NaN</td>\n",
       "      <td>vietnamese_trump</td>\n",
       "      <td>False</td>\n",
       "      <td>True</td>\n",
       "    </tr>\n",
       "    <tr>\n",
       "      <th>584</th>\n",
       "      <td>7006207641354109957</td>\n",
       "      <td>deconimus_</td>\n",
       "      <td>7209383450132942086</td>\n",
       "      <td>https://www.tiktok.com/@deconimus_/video/7209383450132942086</td>\n",
       "      <td>I'm too old for this shit.</td>\n",
       "      <td>21.0</td>\n",
       "      <td>False</td>\n",
       "      <td>2023-03-11 20:10:04</td>\n",
       "      <td>AI Donald shares a college story. #trump #ai #aivoices #aipresidents #aitrump#4chan</td>\n",
       "      <td>122</td>\n",
       "      <td>...</td>\n",
       "      <td>non-biden_deepfakes</td>\n",
       "      <td>non-presidential_debates</td>\n",
       "      <td>non-psa_deepfakes</td>\n",
       "      <td>non-vietnamese_trump</td>\n",
       "      <td>non-trump_cover</td>\n",
       "      <td>non-biden_cover</td>\n",
       "      <td>NaN</td>\n",
       "      <td>unknown</td>\n",
       "      <td>False</td>\n",
       "      <td>False</td>\n",
       "    </tr>\n",
       "    <tr>\n",
       "      <th>585</th>\n",
       "      <td>7233741244794471466</td>\n",
       "      <td>monstermemesteam</td>\n",
       "      <td>7309212119071919406</td>\n",
       "      <td>https://www.tiktok.com/@monstermemesteam/video/7309212119071919406</td>\n",
       "      <td>👽 Checkout the MONSTER OF MEMES Team!!\\n✅️ https://rumble.com/politicalwarroom</td>\n",
       "      <td>946.0</td>\n",
       "      <td>False</td>\n",
       "      <td>2023-12-05 20:36:21</td>\n",
       "      <td>🤣\"GUESS WHO'S BACK ? THE DON, WATCH THE DONALD TRUMP FAKE NEWS RAP VIDEO AS IT DROPS AT NUMBER 1\"🤣 #trump #rap #Rapper #fakenews #music #hiphop #tiktok #viralvideo  #musicvibes #goodvibes #MTV #FJB #biden #memes #ai #aivideos #trumpai #aitrump #letsgo #2A  #trump2024 #donaldtrump #Politics  #president #presidenttrump #usa  #trumpvsbiden #trumpbiden #us #America #americafirst #liberal  #wethepeople  #saveamerica #artificalintelligence #blowthisup #bestsongs #tiktokmusic #impeachbiden #motivation #whitehouse #joebiden #tiktokmemes #aitiktok #Xmas #rematch #maga #letsgobrandon #LGB #gangstarap #dowork  #monstermemesteam #iamhim #meme #naughtylist #randb</td>\n",
       "      <td>14</td>\n",
       "      <td>...</td>\n",
       "      <td>non-biden_deepfakes</td>\n",
       "      <td>non-presidential_debates</td>\n",
       "      <td>non-psa_deepfakes</td>\n",
       "      <td>non-vietnamese_trump</td>\n",
       "      <td>non-trump_cover</td>\n",
       "      <td>non-biden_cover</td>\n",
       "      <td>NaN</td>\n",
       "      <td>unknown</td>\n",
       "      <td>False</td>\n",
       "      <td>False</td>\n",
       "    </tr>\n",
       "    <tr>\n",
       "      <th>586</th>\n",
       "      <td>6744179078963905541</td>\n",
       "      <td>syqemike</td>\n",
       "      <td>7223728943067614507</td>\n",
       "      <td>https://www.tiktok.com/@syqemike/video/7223728943067614507</td>\n",
       "      <td>Youtuber, Veteran, Father, Husband.\\nYoutube- SyqeMike, Presidential Podcasting</td>\n",
       "      <td>32.0</td>\n",
       "      <td>False</td>\n",
       "      <td>2023-04-19 11:58:18</td>\n",
       "      <td>Trump loves Elden Ring #eldenring #voiceai #aitrump #foryou #foryoupage</td>\n",
       "      <td>135</td>\n",
       "      <td>...</td>\n",
       "      <td>non-biden_deepfakes</td>\n",
       "      <td>non-presidential_debates</td>\n",
       "      <td>non-psa_deepfakes</td>\n",
       "      <td>non-vietnamese_trump</td>\n",
       "      <td>non-trump_cover</td>\n",
       "      <td>non-biden_cover</td>\n",
       "      <td>NaN</td>\n",
       "      <td>unknown</td>\n",
       "      <td>False</td>\n",
       "      <td>False</td>\n",
       "    </tr>\n",
       "  </tbody>\n",
       "</table>\n",
       "<p>587 rows × 22 columns</p>\n",
       "</div>"
      ],
      "text/plain": [
       "                      id               uniqueId              videoId  \\\n",
       "0    7202754390540190766  presidentialdeepfakes  7205031224979508523   \n",
       "1    6927014834434212869        covers.ai.songs  7251711953343696170   \n",
       "2    7202754390540190766  presidentialdeepfakes  7202981692708080939   \n",
       "3    7202754390540190766  presidentialdeepfakes  7202957780104318254   \n",
       "4    7032492950270837766       letstalktswizzle  7209428696069868802   \n",
       "..                   ...                    ...                  ...   \n",
       "582  7237046194995495963            tranqhkz76b  7239718617762270491   \n",
       "583  7237046194995495963            tranqhkz76b  7240106093811092763   \n",
       "584  7006207641354109957             deconimus_  7209383450132942086   \n",
       "585  7233741244794471466       monstermemesteam  7309212119071919406   \n",
       "586  6744179078963905541               syqemike  7223728943067614507   \n",
       "\n",
       "                                                                        link  \\\n",
       "0    https://www.tiktok.com/@presidentialdeepfakes/video/7205031224979508523   \n",
       "1          https://www.tiktok.com/@covers.ai.songs/video/7251711953343696170   \n",
       "2    https://www.tiktok.com/@presidentialdeepfakes/video/7202981692708080939   \n",
       "3    https://www.tiktok.com/@presidentialdeepfakes/video/7202957780104318254   \n",
       "4         https://www.tiktok.com/@letstalktswizzle/video/7209428696069868802   \n",
       "..                                                                       ...   \n",
       "582            https://www.tiktok.com/@tranqhkz76b/video/7239718617762270491   \n",
       "583            https://www.tiktok.com/@tranqhkz76b/video/7240106093811092763   \n",
       "584             https://www.tiktok.com/@deconimus_/video/7209383450132942086   \n",
       "585       https://www.tiktok.com/@monstermemesteam/video/7309212119071919406   \n",
       "586               https://www.tiktok.com/@syqemike/video/7223728943067614507   \n",
       "\n",
       "                                                                           signature  \\\n",
       "0                        Ai presidents videos, slideshows and full episodes of shows   \n",
       "1            covers.ai fan acount, teen pop sensation and next best song producer 😤😤   \n",
       "2                        Ai presidents videos, slideshows and full episodes of shows   \n",
       "3                        Ai presidents videos, slideshows and full episodes of shows   \n",
       "4                                                                                NaN   \n",
       "..                                                                               ...   \n",
       "582                          Help me 10000 follow🙏🙏🙏. thank you my friends🥰🥰 🥰❤️❤️❤️   \n",
       "583                          Help me 10000 follow🙏🙏🙏. thank you my friends🥰🥰 🥰❤️❤️❤️   \n",
       "584                                                       I'm too old for this shit.   \n",
       "585   👽 Checkout the MONSTER OF MEMES Team!!\\n✅️ https://rumble.com/politicalwarroom   \n",
       "586  Youtuber, Veteran, Father, Husband.\\nYoutube- SyqeMike, Presidential Podcasting   \n",
       "\n",
       "     followerCount aigcLabelType           createTime  \\\n",
       "0         134400.0         False   2023-02-28 2:41:05   \n",
       "1           7875.0         False  2023-07-03 21:46:11   \n",
       "2         134400.0         False  2023-02-22 14:07:56   \n",
       "3         134400.0         False  2023-02-22 12:35:11   \n",
       "4            402.0         False  2023-03-11 23:05:50   \n",
       "..             ...           ...                  ...   \n",
       "582          300.0         False  2023-06-01 14:05:52   \n",
       "583          300.0         False  2023-06-02 15:09:31   \n",
       "584           21.0         False  2023-03-11 20:10:04   \n",
       "585          946.0         False  2023-12-05 20:36:21   \n",
       "586           32.0         False  2023-04-19 11:58:18   \n",
       "\n",
       "                                                                                                                                                                                                                                                                                                                                                                                                                                                                                                                                                                                                                                                                                    desc  \\\n",
       "0                                                                                                                                                                                                                                                                                                                                                                                                                                                                                                                                                The boys go on a late night drive to McDonalds #aivoice #president #ai #biden #aibiden #trump #aitrump #aipresidentgaming #aipresidents   \n",
       "1                                                                                                                                                                                                                                                                                                                                                                                                                                                                                                                                                                 hello christ, im bout to sin again! #trump #aitrump #aicover #aicovers #biden #aibiden #flyanaboss #flyanabossyouwish    \n",
       "2                                                                                                                                                                                                                                                                                                                                                                                                                                                                                                                                                                                     Trump and Biden play War Thunder #president #ai #biden #aibiden #trump #aitrump #aipresidentgaming   \n",
       "3                                                                                                                                                                                                                                                                                                                                                                                                                                                                                                                                                                                            The boys play Among Us #president #ai #biden #aibiden #trump #aitrump #amongus #aipresident   \n",
       "4                                                                                                                                                                                                                                                                                                                                                                                                                                                                                                                                                                                                        Replying to @carchairheadrest #aivoice #aitrump #aibiden #taylorswift #tswizzle   \n",
       "..                                                                                                                                                                                                                                                                                                                                                                                                                                                                                                                                                                                                                                                                                   ...   \n",
       "582                                                                                                                                                                                                                                                                                                                                                                                                                                                                                                                                                                                                                Biết tìm đâu Donald Trump #aitrump #trending #shorts #coverviral #fyp   \n",
       "583                                                                                                                                                                                                                                                                                                                                                                                                                                                                                                                                                                                                                   Chúng ta không thuộc về nhau Donald #fyp #viral #trending #aitrump   \n",
       "584                                                                                                                                                                                                                                                                                                                                                                                                                                                                                                                                                                                                  AI Donald shares a college story. #trump #ai #aivoices #aipresidents #aitrump#4chan   \n",
       "585  🤣\"GUESS WHO'S BACK ? THE DON, WATCH THE DONALD TRUMP FAKE NEWS RAP VIDEO AS IT DROPS AT NUMBER 1\"🤣 #trump #rap #Rapper #fakenews #music #hiphop #tiktok #viralvideo  #musicvibes #goodvibes #MTV #FJB #biden #memes #ai #aivideos #trumpai #aitrump #letsgo #2A  #trump2024 #donaldtrump #Politics  #president #presidenttrump #usa  #trumpvsbiden #trumpbiden #us #America #americafirst #liberal  #wethepeople  #saveamerica #artificalintelligence #blowthisup #bestsongs #tiktokmusic #impeachbiden #motivation #whitehouse #joebiden #tiktokmemes #aitiktok #Xmas #rematch #maga #letsgobrandon #LGB #gangstarap #dowork  #monstermemesteam #iamhim #meme #naughtylist #randb    \n",
       "586                                                                                                                                                                                                                                                                                                                                                                                                                                                                                                                                                                                                              Trump loves Elden Ring #eldenring #voiceai #aitrump #foryou #foryoupage   \n",
       "\n",
       "     playCount  ...      biden_deepfakes      presidential_debates  \\\n",
       "0      2213066  ...  non-biden_deepfakes  non-presidential_debates   \n",
       "1       913053  ...  non-biden_deepfakes  non-presidential_debates   \n",
       "2       490077  ...  non-biden_deepfakes  non-presidential_debates   \n",
       "3       305942  ...  non-biden_deepfakes  non-presidential_debates   \n",
       "4       199689  ...  non-biden_deepfakes      presidential_debates   \n",
       "..         ...  ...                  ...                       ...   \n",
       "582         24  ...  non-biden_deepfakes  non-presidential_debates   \n",
       "583          9  ...  non-biden_deepfakes  non-presidential_debates   \n",
       "584        122  ...  non-biden_deepfakes  non-presidential_debates   \n",
       "585         14  ...  non-biden_deepfakes  non-presidential_debates   \n",
       "586        135  ...  non-biden_deepfakes  non-presidential_debates   \n",
       "\n",
       "         psa_deepfakes      vietnamese_trump     trump_covers  \\\n",
       "0    non-psa_deepfakes  non-vietnamese_trump  non-trump_cover   \n",
       "1    non-psa_deepfakes  non-vietnamese_trump      trump_cover   \n",
       "2    non-psa_deepfakes  non-vietnamese_trump  non-trump_cover   \n",
       "3    non-psa_deepfakes  non-vietnamese_trump  non-trump_cover   \n",
       "4    non-psa_deepfakes  non-vietnamese_trump  non-trump_cover   \n",
       "..                 ...                   ...              ...   \n",
       "582  non-psa_deepfakes      vietnamese_trump  non-trump_cover   \n",
       "583  non-psa_deepfakes      vietnamese_trump  non-trump_cover   \n",
       "584  non-psa_deepfakes  non-vietnamese_trump  non-trump_cover   \n",
       "585  non-psa_deepfakes  non-vietnamese_trump  non-trump_cover   \n",
       "586  non-psa_deepfakes  non-vietnamese_trump  non-trump_cover   \n",
       "\n",
       "        biden_covers     trump_deepfakes              category deepfake  songs  \n",
       "0    non-biden_cover  non-trump_deepfake                 gamer    False  False  \n",
       "1    non-biden_cover  non-trump_deepfake          trump_covers    False   True  \n",
       "2    non-biden_cover  non-trump_deepfake                 gamer    False  False  \n",
       "3    non-biden_cover  non-trump_deepfake                 gamer    False  False  \n",
       "4    non-biden_cover  non-trump_deepfake  presidential_debates     True  False  \n",
       "..               ...                 ...                   ...      ...    ...  \n",
       "582  non-biden_cover                 NaN      vietnamese_trump    False   True  \n",
       "583  non-biden_cover                 NaN      vietnamese_trump    False   True  \n",
       "584  non-biden_cover                 NaN               unknown    False  False  \n",
       "585  non-biden_cover                 NaN               unknown    False  False  \n",
       "586  non-biden_cover                 NaN               unknown    False  False  \n",
       "\n",
       "[587 rows x 22 columns]"
      ]
     },
     "execution_count": 16,
     "metadata": {},
     "output_type": "execute_result"
    }
   ],
   "source": [
    "# save df as csv\n",
    "\n",
    "# df.to_csv('clean/data-viz.csv', index=False)\n",
    "\n",
    "df"
   ]
  },
  {
   "cell_type": "code",
   "execution_count": 18,
   "metadata": {},
   "outputs": [
    {
     "data": {
      "text/plain": [
       "month\n",
       "2022-12      1\n",
       "2023-02     77\n",
       "2023-03    118\n",
       "2023-04     47\n",
       "2023-05     33\n",
       "2023-06     47\n",
       "2023-07     53\n",
       "2023-08     40\n",
       "2023-09     24\n",
       "2023-10     13\n",
       "2023-11     14\n",
       "2023-12     16\n",
       "2024-01     12\n",
       "2024-02     62\n",
       "2024-03     12\n",
       "2024-04      2\n",
       "2024-05     13\n",
       "2024-06      3\n",
       "Freq: M, Name: count, dtype: int64"
      ]
     },
     "execution_count": 18,
     "metadata": {},
     "output_type": "execute_result"
    },
    {
     "data": {
      "image/png": "[encoded data removed]",
      "text/plain": [
       "<Figure size 1000x300 with 1 Axes>"
      ]
     },
     "metadata": {},
     "output_type": "display_data"
    }
   ],
   "source": [
    "# plot the number of videos created per month grouped by category: gamer, deepfakes, songs\n",
    "\n",
    "df['month'] = pd.to_datetime(df['createTime']).dt.to_period('M')\n",
    "\n",
    "df['month'].value_counts().sort_index().plot(kind='bar', figsize=(10,3))\n",
    "\n",
    "df['month'].value_counts().sort_index()\n",
    "\n",
    "# plt.savefig('data.png')\n",
    "\n",
    "\n"
   ]
  },
  {
   "cell_type": "code",
   "execution_count": 19,
   "metadata": {},
   "outputs": [
    {
     "data": {
      "image/png": "[encoded data removed]",
      "text/plain": [
       "<Figure size 1000x300 with 1 Axes>"
      ]
     },
     "metadata": {},
     "output_type": "display_data"
    }
   ],
   "source": [
    "# plot the number of videos created per month grouped by category: gamer\n",
    "\n",
    "df[df['gamer'] == True]['month'].value_counts().sort_index().plot(kind='bar', figsize=(10,3))\n",
    "\n",
    "df[df['gamer'] == True]['month'].value_counts().sort_index()\n",
    "\n",
    "# save as svg\n",
    "\n",
    "# plt.savefig('gamer.svg')"
   ]
  },
  {
   "cell_type": "code",
   "execution_count": 21,
   "metadata": {},
   "outputs": [
    {
     "data": {
      "text/plain": [
       "month\n",
       "2023-02    11\n",
       "2023-03    29\n",
       "2023-04    31\n",
       "2023-05     8\n",
       "2023-06     7\n",
       "2023-07    21\n",
       "2023-08    19\n",
       "2023-09     8\n",
       "2023-10     4\n",
       "2023-11    10\n",
       "2023-12     7\n",
       "2024-01     7\n",
       "2024-02    51\n",
       "2024-03    11\n",
       "2024-04     1\n",
       "2024-05     3\n",
       "2024-06     3\n",
       "Freq: M, Name: count, dtype: int64"
      ]
     },
     "execution_count": 21,
     "metadata": {},
     "output_type": "execute_result"
    },
    {
     "data": {
      "image/png": "[encoded data removed]",
      "text/plain": [
       "<Figure size 1000x300 with 1 Axes>"
      ]
     },
     "metadata": {},
     "output_type": "display_data"
    }
   ],
   "source": [
    "# plot the number of videos created per month grouped by category: deepfakes\n",
    "\n",
    "df[df['deepfake'] == True]['month'].value_counts().sort_index().plot(kind='bar', figsize=(10,3))\n",
    "\n",
    "df[df['deepfake'] == True]['month'].value_counts().sort_index()\n",
    "\n",
    "# plt.savefig('deepfakes.svg')"
   ]
  },
  {
   "cell_type": "code",
   "execution_count": 22,
   "metadata": {},
   "outputs": [
    {
     "data": {
      "image/png": "[encoded data removed]",
      "text/plain": [
       "<Figure size 1000x300 with 1 Axes>"
      ]
     },
     "metadata": {},
     "output_type": "display_data"
    }
   ],
   "source": [
    "# plot the number of videos created per month grouped by category: songs\n",
    "\n",
    "df[df['songs'] == True]['month'].value_counts().sort_index().plot(kind='bar', figsize=(10,3))\n",
    "\n",
    "df[df['songs'] == True]['month'].value_counts().sort_index()\n",
    "\n",
    "# plt.savefig('songs.svg')"
   ]
  }
 ],
 "metadata": {
  "kernelspec": {
   "display_name": "Python 3",
   "language": "python",
   "name": "python3"
  },
  "language_info": {
   "codemirror_mode": {
    "name": "ipython",
    "version": 3
   },
   "file_extension": ".py",
   "mimetype": "text/x-python",
   "name": "python",
   "nbconvert_exporter": "python",
   "pygments_lexer": "ipython3",
   "version": "3.11.6"
  }
 },
 "nbformat": 4,
 "nbformat_minor": 2
}
