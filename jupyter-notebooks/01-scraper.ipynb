{
 "cells": [
  {
   "cell_type": "markdown",
   "metadata": {},
   "source": [
    "## TikTok Scraper"
   ]
  },
  {
   "cell_type": "markdown",
   "metadata": {},
   "source": [
    "### Setup"
   ]
  },
  {
   "cell_type": "code",
   "execution_count": 1,
   "metadata": {},
   "outputs": [],
   "source": [
    "# !playwright install  \n",
    "# !pip install --quiet playwright\n",
    "# !pip install tiktok-hashtag-analysis"
   ]
  },
  {
   "cell_type": "code",
   "execution_count": 2,
   "metadata": {},
   "outputs": [],
   "source": [
    "# load requirements\n",
    "\n",
    "from TikTokApi import TikTokApi\n",
    "import asyncio\n",
    "import os\n",
    "import pandas as pd\n",
    "from datetime import datetime"
   ]
  },
  {
   "cell_type": "markdown",
   "metadata": {},
   "source": [
    "### Load Token"
   ]
  },
  {
   "cell_type": "code",
   "execution_count": 3,
   "metadata": {},
   "outputs": [],
   "source": [
    "os.environ[\"ms_token\"] = \"S0stDlxMi55raPhxnKwTNfrQfl06aXasUfGtBPM5xFph9f_eSA_-08Da9q-3dJBe7eTqWYAJYYjsxgqtiIhcrdSY-kpRHGTtCRKrX2SFhnrSlJgDllXBQDwra75TYJ3alAls86qdThLQzwdl3AmY7IXo\"\n",
    "ms_token = os.environ.get(\"ms_token\", None)"
   ]
  },
  {
   "cell_type": "code",
   "execution_count": 4,
   "metadata": {},
   "outputs": [],
   "source": [
    "async with TikTokApi() as api:\n",
    "    await api.create_sessions(headless=False)"
   ]
  },
  {
   "cell_type": "markdown",
   "metadata": {},
   "source": [
    "### Search Hashtag"
   ]
  },
  {
   "cell_type": "code",
   "execution_count": 5,
   "metadata": {},
   "outputs": [],
   "source": [
    "# !tiktok-hashtag-analysis aibiden --download\n",
    "# !tiktok-hashtag-analysis aibiden"
   ]
  },
  {
   "cell_type": "code",
   "execution_count": 6,
   "metadata": {},
   "outputs": [],
   "source": [
    "# !tiktok-hashtag-analysis aitrump --download\n",
    "# !tiktok-hashtag-analysis aitrump"
   ]
  }
 ],
 "metadata": {
  "kernelspec": {
   "display_name": "Python 3",
   "language": "python",
   "name": "python3"
  },
  "language_info": {
   "codemirror_mode": {
    "name": "ipython",
    "version": 3
   },
   "file_extension": ".py",
   "mimetype": "text/x-python",
   "name": "python",
   "nbconvert_exporter": "python",
   "pygments_lexer": "ipython3",
   "version": "3.11.6"
  }
 },
 "nbformat": 4,
 "nbformat_minor": 2
}
